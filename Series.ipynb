{
 "cells": [
  {
   "cell_type": "code",
   "execution_count": 1,
   "id": "b747c201-6cb2-499c-8901-27090ca76b40",
   "metadata": {},
   "outputs": [],
   "source": [
    "import numpy as np\n",
    "import pandas as pd"
   ]
  },
  {
   "cell_type": "code",
   "execution_count": 5,
   "id": "1b1502e9-ef0d-4226-9dd2-85a0415437cd",
   "metadata": {},
   "outputs": [],
   "source": [
    "d=[10,20,30]\n",
    "label=['a','b','c']\n",
    "s=pd.Series(data=d,index=label)\n",
    "s['b']#accessing series with index \n"
   ]
  },
  {
   "cell_type": "code",
   "execution_count": 18,
   "id": "a3fd3007-2ee7-4161-8333-74bc04ab220f",
   "metadata": {},
   "outputs": [
    {
     "name": "stdout",
     "output_type": "stream",
     "text": [
      "0    100\n",
      "1    200\n",
      "dtype: int64\n",
      "0    puneet\n",
      "dtype: object\n",
      "100     jerry\n",
      "200    ceaser\n",
      "dtype: object\n",
      "0    jerry\n",
      "1    berry\n",
      "2    merry\n",
      "dtype: object\n",
      "0    virat\n",
      "1    rohit\n",
      "dtype: object\n"
     ]
    }
   ],
   "source": [
    "#series can hold variety of data\n",
    "\"\"\"\n",
    "array\n",
    "string\n",
    "dictionary\n",
    "inbuilt function\n",
    "tuple\n",
    "set\n",
    "\"\"\"\n",
    "\n",
    "a=np.array([100,200])\n",
    "s=\"puneet\"\n",
    "d={100:\"jerry\",200:\"ceaser\"}\n",
    "t=('jerry','berry','merry')\n",
    "l=['virat','rohit']\n",
    "s1=pd.Series(a)\n",
    "s2=pd.Series(s)\n",
    "s3=pd.Series(d)\n",
    "s4=pd.Series(t)\n",
    "s5=pd.Series(l)\n",
    "print(s1)\n",
    "print(s2)\n",
    "print(s3)\n",
    "print(s4)\n",
    "print(s5)"
   ]
  },
  {
   "cell_type": "code",
   "execution_count": 21,
   "id": "ecb860c3-e397-41c4-92be-a7401c11c09c",
   "metadata": {},
   "outputs": [
    {
     "name": "stdout",
     "output_type": "stream",
     "text": [
      "raina     NaN\n",
      "rohit    38.0\n",
      "virat    39.0\n",
      "dtype: float64\n",
      "rohit    40\n",
      "virat    40\n",
      "dtype: int64\n",
      "rohit    4.0\n",
      "virat    4.0\n",
      "dtype: float64\n"
     ]
    }
   ],
   "source": [
    "s1=pd.Series([20,20],['rohit','virat'])\n",
    "s2=pd.Series([18,19,20],['rohit','virat','raina'])\n",
    "print(s1+s2)\n",
    "print(s1*2)\n",
    "print(s1/5)"
   ]
  },
  {
   "cell_type": "code",
   "execution_count": 22,
   "id": "edf1050a-b290-43be-8f54-34cba4757087",
   "metadata": {},
   "outputs": [
    {
     "data": {
      "text/plain": [
       "array([20, 20])"
      ]
     },
     "execution_count": 22,
     "metadata": {},
     "output_type": "execute_result"
    }
   ],
   "source": [
    "s1.values"
   ]
  },
  {
   "cell_type": "code",
   "execution_count": 23,
   "id": "12a9dfaf-ca36-41f1-b6ff-f8bd6b9d79fa",
   "metadata": {},
   "outputs": [
    {
     "data": {
      "text/plain": [
       "numpy.ndarray"
      ]
     },
     "execution_count": 23,
     "metadata": {},
     "output_type": "execute_result"
    }
   ],
   "source": [
    "type(s1.values)"
   ]
  },
  {
   "cell_type": "code",
   "execution_count": 29,
   "id": "29d54d24-34ff-4d7a-bfff-f266818ad0ec",
   "metadata": {},
   "outputs": [
    {
     "name": "stdout",
     "output_type": "stream",
     "text": [
      "shubam    80\n",
      "virat     79\n",
      "rohit     99\n",
      "dhawan    87\n",
      "dtype: int64\n",
      "79\n"
     ]
    }
   ],
   "source": [
    "s=pd.Series([80,79,99,87],['shubam','virat','rohit','dhawan'])\n",
    "print(s)\n",
    "print(s.iloc[1])"
   ]
  },
  {
   "cell_type": "code",
   "execution_count": 30,
   "id": "4cadf777-5d0d-44d0-9dff-a0a4f0715144",
   "metadata": {},
   "outputs": [
    {
     "data": {
      "text/plain": [
       "shubam    80\n",
       "rohit     99\n",
       "dtype: int64"
      ]
     },
     "execution_count": 30,
     "metadata": {},
     "output_type": "execute_result"
    }
   ],
   "source": [
    "#multiple indexes\n",
    "s[['shubam','rohit']]"
   ]
  },
  {
   "cell_type": "code",
   "execution_count": 37,
   "id": "125ab3e0-9550-44c6-b23d-a8915c12111c",
   "metadata": {},
   "outputs": [
    {
     "name": "stdout",
     "output_type": "stream",
     "text": [
      "virat     79\n",
      "rohit     99\n",
      "dhawan    87\n",
      "dtype: int64\n",
      "virat    79\n",
      "rohit    99\n",
      "dtype: int64\n"
     ]
    }
   ],
   "source": [
    "#access the range\n",
    "print(s['virat':'dhawan'])#here upper limit is also included unlike list\n",
    "print(s[1:3])#works upperlimit-1 if indexes are passed"
   ]
  },
  {
   "cell_type": "code",
   "execution_count": 38,
   "id": "889943d6-cd53-44b4-b0e0-5874a77dd4b4",
   "metadata": {},
   "outputs": [
    {
     "data": {
      "text/plain": [
       "shubam    False\n",
       "virat      True\n",
       "rohit     False\n",
       "dhawan    False\n",
       "dtype: bool"
      ]
     },
     "execution_count": 38,
     "metadata": {},
     "output_type": "execute_result"
    }
   ],
   "source": [
    "#access with conditions\n",
    "s<80"
   ]
  },
  {
   "cell_type": "code",
   "execution_count": 45,
   "id": "f9210c25-32f2-4237-a8ba-e3f1420ae059",
   "metadata": {},
   "outputs": [
    {
     "data": {
      "text/plain": [
       "dhawan    87\n",
       "dtype: int64"
      ]
     },
     "execution_count": 45,
     "metadata": {},
     "output_type": "execute_result"
    }
   ],
   "source": [
    "s[(s>80)&(s<90)]"
   ]
  },
  {
   "cell_type": "code",
   "execution_count": null,
   "id": "6ace0e69-7274-487b-9250-d5feee1919eb",
   "metadata": {},
   "outputs": [],
   "source": []
  },
  {
   "cell_type": "code",
   "execution_count": 39,
   "id": "45ee0bd9-3ef0-446c-8113-5c6b8b6e6300",
   "metadata": {},
   "outputs": [
    {
     "data": {
      "text/plain": [
       "86.25"
      ]
     },
     "execution_count": 39,
     "metadata": {},
     "output_type": "execute_result"
    }
   ],
   "source": [
    "s.mean()#mean of all values"
   ]
  },
  {
   "cell_type": "code",
   "execution_count": 40,
   "id": "d7884e9f-c0b2-4365-bd6c-a5437ade49a4",
   "metadata": {},
   "outputs": [
    {
     "data": {
      "text/plain": [
       "86.25"
      ]
     },
     "execution_count": 40,
     "metadata": {},
     "output_type": "execute_result"
    }
   ],
   "source": [
    "(80+79+99+87)/4 #mean formulla total of obervations / total no. of observations"
   ]
  },
  {
   "cell_type": "code",
   "execution_count": null,
   "id": "791d0ea8-1648-41a8-8d30-20cfb91b00e1",
   "metadata": {},
   "outputs": [],
   "source": [
    "#modify values using index\n"
   ]
  }
 ],
 "metadata": {
  "kernelspec": {
   "display_name": "Python 3 (ipykernel)",
   "language": "python",
   "name": "python3"
  },
  "language_info": {
   "codemirror_mode": {
    "name": "ipython",
    "version": 3
   },
   "file_extension": ".py",
   "mimetype": "text/x-python",
   "name": "python",
   "nbconvert_exporter": "python",
   "pygments_lexer": "ipython3",
   "version": "3.9.12"
  }
 },
 "nbformat": 4,
 "nbformat_minor": 5
}
